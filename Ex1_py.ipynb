{
  "nbformat": 4,
  "nbformat_minor": 0,
  "metadata": {
    "colab": {
      "provenance": [],
      "authorship_tag": "ABX9TyPCcxvw8j2cJQ4evsSEnZDU",
      "include_colab_link": true
    },
    "kernelspec": {
      "name": "python3",
      "display_name": "Python 3"
    },
    "language_info": {
      "name": "python"
    }
  },
  "cells": [
    {
      "cell_type": "markdown",
      "metadata": {
        "id": "view-in-github",
        "colab_type": "text"
      },
      "source": [
        "<a href=\"https://colab.research.google.com/github/Sailaja-1130/Compiler-Design/blob/main/Ex1_py.ipynb\" target=\"_parent\"><img src=\"https://colab.research.google.com/assets/colab-badge.svg\" alt=\"Open In Colab\"/></a>"
      ]
    },
    {
      "cell_type": "code",
      "source": [
        "keywords = {\"auto\",\"break\",\"case\",\"char\",\"const\",\"continue\",\"default\",\"do\",\n",
        "\"double\",\"else\",\"enum\",\"extern\",\"float\",\"for\",\"goto\",\n",
        "\"if\",\"int\",\"long\",\"register\",\"return\",\"short\",\"signed\",\n",
        "\"sizeof\",\"static\",\"struct\",\"switch\",\"typedef\",\"union\",\n",
        "\"unsigned\",\"void\",\"volatile\",\"while\",\"printf\",\"scanf\",\"%d\",\"include\",\"stdio.h\",\"main\"}\n",
        "\n",
        "operators = {\"+\",\"-\",\"*\",\"/\",\"<\",\">\",\"=\",\"<=\",\">=\",\"==\",\"!=\",\"++\",\"--\",\"%\"}\n",
        "\n",
        "delimiters = {'(',')','{','}','[',']','\"',\"'\",';','#',',',''}\n",
        "\n",
        "def detect_keywords(text):\n",
        "\tarr = []\n",
        "\tfor word in text:\n",
        "\t\tif word in keywords:\n",
        "\t\t\tarr.append(word)\n",
        "\treturn list(set(arr))\n",
        "\n",
        "def detect_operators(text):\n",
        "\tarr = []\n",
        "\tfor word in text:\n",
        "\t\tif word in operators:\n",
        "\t\t\tarr.append(word)\n",
        "\treturn list(set(arr))\n",
        "\n",
        "def detect_delimiters(text):\n",
        "\tarr = []\n",
        "\tfor word in text:\n",
        "\t\tif word in delimiters:\n",
        "\t\t\tarr.append(word)\n",
        "\treturn list(set(arr))\n",
        "\n",
        "def detect_num(text):\n",
        "\tarr = []\n",
        "\tfor word in text:\n",
        "\t\ttry:\n",
        "\t\t\ta = int(word)\n",
        "\t\t\tarr.append(word)\n",
        "\t\texcept:\n",
        "\t\t\tpass\n",
        "\treturn list(set(arr))\n",
        "\"\"\"\n",
        "this is original function for detecting identifier\n",
        "def is_identifier(token):\n",
        "    if token[0] in numbers or token in keywords:\n",
        "        return False\n",
        "    else:\n",
        "        return identifier(token)\n",
        "def identifier(token):\n",
        "    if len(token)<2 and (token[0] in alphabets or token[0] in numbers or token[0] == \"_\"):\n",
        "        return True\n",
        "    elif token[0] in alphabets or token[0] in numbers or token[0] == \"_\":\n",
        "        return identifier(token[1:])\n",
        "    else:\n",
        "        return False\n",
        "\"\"\"\n",
        "def detect_identifiers(text):\n",
        "\tk = detect_keywords(text)\n",
        "\to = detect_operators(text)\n",
        "\td = detect_delimiters(text)\n",
        "\tn = detect_num(text)\n",
        "\tnot_ident = k + o + d + n\n",
        "\tarr = []\n",
        "\tfor word in text:\n",
        "\t\tif word not in not_ident:\n",
        "\t\t\tarr.append(word)\n",
        "\treturn arr\n",
        "\n",
        "with open('e1-example.txt') as t:\n",
        "\ttext = t.read().split()\n",
        "\n",
        "print(\"Keywords: \",detect_keywords(text))\n",
        "print(\"Operators: \",detect_operators(text))\n",
        "print(\"Delimiters: \",detect_delimiters(text))\n",
        "print(\"Identifiers: \",detect_identifiers(text))\n",
        "print(\"Numbers: \",detect_num(text))"
      ],
      "metadata": {
        "colab": {
          "base_uri": "https://localhost:8080/"
        },
        "id": "B6e7SIrdVCZq",
        "outputId": "cc8318a3-e856-4030-b6be-2c1b8e6d55d8"
      },
      "execution_count": null,
      "outputs": [
        {
          "output_type": "stream",
          "name": "stdout",
          "text": [
            "Keywords:  ['return', 'if', 'for']\n",
            "Operators:  ['==', '=', '+']\n",
            "Delimiters:  []\n",
            "Identifiers:  ['keywords', '{\"auto\",\"break\",\"case\",\"char\",\"const\",\"continue\",\"default\",\"do\",', '\"double\",\"else\",\"enum\",\"extern\",\"float\",\"for\",\"goto\",', '\"if\",\"int\",\"long\",\"register\",\"return\",\"short\",\"signed\",', '\"sizeof\",\"static\",\"struct\",\"switch\",\"typedef\",\"union\",', '\"unsigned\",\"void\",\"volatile\",\"while\",\"printf\",\"scanf\",\"%d\",\"include\",\"stdio.h\",\"main\"}', 'operators', '{\"+\",\"-\",\"*\",\"/\",\"<\",\">\",\"=\",\"<=\",\">=\",\"==\",\"!=\",\"++\",\"--\",\"%\"}', 'delimiters', '{\\'(\\',\\')\\',\\'{\\',\\'}\\',\\'[\\',\\']\\',\\'\"\\',\"\\'\",\\';\\',\\'#\\',\\',\\',\\'\\'}', 'def', 'detect_keywords(text):', 'arr', '[]', 'word', 'in', 'text:', 'word', 'in', 'keywords:', 'arr.append(word)', 'list(set(arr))', 'def', 'detect_operators(text):', 'arr', '[]', 'word', 'in', 'text:', 'word', 'in', 'operators:', 'arr.append(word)', 'list(set(arr))', 'def', 'detect_delimiters(text):', 'arr', '[]', 'word', 'in', 'text:', 'word', 'in', 'delimiters:', 'arr.append(word)', 'list(set(arr))', 'def', 'detect_num(text):', 'arr', '[]', 'word', 'in', 'text:', 'try:', 'a', 'int(word)', 'arr.append(word)', 'except:', 'pass', 'list(set(arr))', '\"\"\"', 'this', 'is', 'original', 'function', 'detecting', 'identifier', 'def', 'is_identifier(token):', 'token[0]', 'in', 'numbers', 'or', 'token', 'in', 'keywords:', 'False', 'else:', 'identifier(token)', 'def', 'identifier(token):', 'len(token)<2', 'and', '(token[0]', 'in', 'alphabets', 'or', 'token[0]', 'in', 'numbers', 'or', 'token[0]', '\"_\"):', 'True', 'elif', 'token[0]', 'in', 'alphabets', 'or', 'token[0]', 'in', 'numbers', 'or', 'token[0]', '\"_\":', 'identifier(token[1:])', 'else:', 'False', '\"\"\"', 'def', 'detect_identifiers(text):', 'k', 'detect_keywords(text)', 'o', 'detect_operators(text)', 'd', 'detect_delimiters(text)', 'n', 'detect_num(text)', 'not_ident', 'k', 'o', 'd', 'n', 'arr', '[]', 'word', 'in', 'text:', 'word', 'not', 'in', 'not_ident:', 'arr.append(word)', 'arr', 'with', \"open('e1-example.txt')\", 'as', 't:', 'text', 't.read().split()', 'print(\"Keywords:', '\",detect_keywords(text))', 'print(\"Operators:', '\",detect_operators(text))', 'print(\"Delimiters:', '\",detect_delimiters(text))', 'print(\"Identifiers:', '\",detect_identifiers(text))', 'print(\"Numbers:', '\",detect_num(text))']\n",
            "Numbers:  []\n"
          ]
        }
      ]
    }
  ]
}